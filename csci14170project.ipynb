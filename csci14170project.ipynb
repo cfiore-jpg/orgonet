{
 "cells": [
  {
   "attachments": {},
   "cell_type": "markdown",
   "metadata": {},
   "source": [
    "### Import"
   ]
  },
  {
   "cell_type": "code",
   "execution_count": null,
   "metadata": {},
   "outputs": [],
   "source": [
    "import tensorflow as tf\n",
    "import numpy as np\n",
    "import math"
   ]
  },
  {
   "attachments": {},
   "cell_type": "markdown",
   "metadata": {},
   "source": [
    "### Preprocessing"
   ]
  },
  {
   "cell_type": "code",
   "execution_count": null,
   "metadata": {},
   "outputs": [],
   "source": [
    "# Define Path\n",
    "data_path = (\"/Users/ugopiovan/csci2470/Project/iupacs\")\n",
    "\n",
    "# Load Train Data\n",
    "train_names = np.load('/test/testnames.npy')\n",
    "train_elements = np.load('/test/testelements.npy')\n",
    "train_positions = np.load('/test/testpositions.npy')\n",
    "train_sizes = np.load('/test/testsizes.npy')\n",
    "\n",
    "# Load Test Data\n",
    "test_names = np.load('/train/trainnames.npy')\n",
    "test_elements = np.load('/train/trainelements.npy')\n",
    "test_positions = np.load('/test/trainpositions.npy')\n",
    "test_sizes = np.load('/test/trainsizes.npy')\n",
    "\n",
    "# Preprocess data\n",
    "# TODO: "
   ]
  },
  {
   "attachments": {},
   "cell_type": "markdown",
   "metadata": {},
   "source": [
    "### Class Definition"
   ]
  },
  {
   "cell_type": "code",
   "execution_count": null,
   "metadata": {},
   "outputs": [],
   "source": [
    "# Define the model\n",
    "class MoleculeStructureGenerator(tf.keras.Model):\n",
    "    def __init__(self):\n",
    "        super(MoleculeStructureGenerator, self).__init__()\n",
    "\n",
    "        self.encoder = None\n",
    "        self.embedding = None\n",
    "        self.pos_encoding = None\n",
    "        self.decoder = None\n",
    "        self.final_layer = None\n",
    "        self.dropout = None\n",
    "\n",
    "        # tf.keras.layers.MultiHeadAttention\n",
    "\n",
    "    def call(self, inputs, training):\n",
    "        enc_output = None\n",
    "\n",
    "        dec_output = None\n",
    "\n",
    "        output = None\n",
    "\n",
    "        return output"
   ]
  },
  {
   "attachments": {},
   "cell_type": "markdown",
   "metadata": {},
   "source": [
    "### Define Hyperparameters"
   ]
  },
  {
   "cell_type": "code",
   "execution_count": null,
   "metadata": {},
   "outputs": [],
   "source": [
    "LEARNING_RATE = 0.001\n",
    "EPOCHS = 1000\n",
    "NUM_LAYERS = 4\n",
    "# TODO"
   ]
  },
  {
   "cell_type": "code",
   "execution_count": null,
   "metadata": {},
   "outputs": [],
   "source": [
    "train_data = None\n",
    "test_data = None\n",
    "\n",
    "# Define your loss function here\n",
    "def loss_function(y_true, y_pred):\n",
    "    # return tf.keras.losses.mean_squared_error(y_true, y_pred)\n",
    "    return tf.reduce_mean(tf.square(y_true - y_pred))\n",
    "\n",
    "# Define your optimizer here\n",
    "optimizer = tf.keras.optimizers.Adam(learning_rate=LEARNING_RATE)\n",
    "\n",
    "# Compile your model\n",
    "model = MoleculeStructureGenerator()\n",
    "model.compile(optimizer=optimizer, loss=loss_function)\n",
    "\n",
    "# Train your model\n",
    "model.fit(train_data, epochs=EPOCHS)\n",
    "\n",
    "# Evaluate your model\n",
    "model.evaluate(test_data)"
   ]
  }
 ],
 "metadata": {
  "kernelspec": {
   "display_name": "csci1470",
   "language": "python",
   "name": "python3"
  },
  "language_info": {
   "name": "python",
   "version": "3.10.9"
  },
  "orig_nbformat": 4
 },
 "nbformat": 4,
 "nbformat_minor": 2
}
